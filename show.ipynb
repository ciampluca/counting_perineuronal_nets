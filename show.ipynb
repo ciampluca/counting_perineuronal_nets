{
 "cells": [
  {
   "cell_type": "code",
   "execution_count": null,
   "id": "1210e6a0",
   "metadata": {},
   "outputs": [],
   "source": [
    "import re\n",
    "\n",
    "import itertools\n",
    "import numpy as np\n",
    "import pandas as pd\n",
    "\n",
    "import matplotlib\n",
    "import matplotlib.pyplot as plt\n",
    "import seaborn as sns\n",
    "\n",
    "%matplotlib inline\n",
    "\n",
    "from pathlib import Path\n",
    "from glob import glob\n",
    "from matplotlib import ticker\n",
    "from multiprocessing import Pool\n",
    "from tqdm.auto import tqdm\n",
    "\n",
    "tqdm.pandas()\n",
    "\n",
    "from utils import points"
   ]
  },
  {
   "cell_type": "code",
   "execution_count": null,
   "metadata": {},
   "outputs": [],
   "source": [
    "runs = {\n",
    "    'S-UNet': glob('outputs/experiment=unet_*/test_predictions/'),\n",
    "    'FRCNN' : glob('tmp/detection-*/test_predictions/'),\n",
    "    'D-UNet': glob('tmp/density-*/test_predictions/')\n",
    "}"
   ]
  },
  {
   "cell_type": "code",
   "execution_count": null,
   "id": "734e0a63",
   "metadata": {},
   "outputs": [],
   "source": [
    "def collect(model_name, run, csv_file):\n",
    "    patch_size = re.search(r'(?<=unet_)\\d+', run) or re.search(r'(?<=patch-size-)\\d+', run)\n",
    "    patch_size = int(patch_size.group())\n",
    "    run = Path(run)\n",
    "\n",
    "    csv_path = run / csv_file\n",
    "    if not csv_path.exists():\n",
    "        print(f'Skipping not found: {csv_path}')\n",
    "        return pd.DataFrame()\n",
    "    \n",
    "    data = pd.read_csv(csv_path, index_col=0)\n",
    "    data['model'] = model_name\n",
    "    data['patch_size'] = patch_size\n",
    "    \n",
    "    return data\n",
    "\n",
    "metrics = pd.concat([collect(k, r, 'all_metrics.csv') for k, v in runs.items() for r in v], ignore_index=True)\n",
    "predictions = pd.concat([collect(k, r, 'all_gt_preds.csv') for k, v in runs.items() for r in v], ignore_index=True)"
   ]
  },
  {
   "cell_type": "markdown",
   "id": "c13f432b",
   "metadata": {},
   "source": [
    "## Counting Metrics vs Threshold"
   ]
  },
  {
   "cell_type": "code",
   "execution_count": null,
   "id": "e6c577ff",
   "metadata": {},
   "outputs": [],
   "source": [
    "sns.set_theme(context='notebook', style='ticks', font_scale=1.5)\n",
    "\n",
    "data = metrics[metrics.thr.between(0, 1)]\n",
    "\n",
    "id_vars = ['model', 'patch_size', 'imgName', 'thr']\n",
    "selected_metrics = [c for c in data.columns if 'count/game' in c]\n",
    "data = data.melt(id_vars=id_vars, value_vars=selected_metrics, var_name='metric')\n",
    "\n",
    "g = sns.relplot(data=data, kind='line',\n",
    "                x='thr', y='value', hue='metric', ci='sd', # units='imgName', estimator=None,\n",
    "                col='model', row='patch_size',\n",
    "                facet_kws=dict(margin_titles=True))\n",
    "\n",
    "g.set(ylim=(0, 400), xlim=(0, 1))\n",
    "for ax in g.axes.flatten():\n",
    "    ax.grid(True, which='major')\n",
    "    ax.grid(True, which='minor', ls='dotted')\n",
    "    ax.get_xaxis().set_minor_locator(ticker.AutoMinorLocator(2))\n",
    "    ax.get_yaxis().set_minor_locator(ticker.AutoMinorLocator(2))"
   ]
  },
  {
   "cell_type": "markdown",
   "id": "326ab06d",
   "metadata": {},
   "source": [
    "## F1-Score vs Threshold"
   ]
  },
  {
   "cell_type": "code",
   "execution_count": null,
   "id": "924e759b",
   "metadata": {},
   "outputs": [],
   "source": [
    "sns.set_theme(context='notebook', style='ticks', font_scale=1.5)\n",
    "\n",
    "data = metrics[metrics.thr.between(0, 1)]\n",
    "\n",
    "g = sns.relplot(data=data, kind='line',\n",
    "                x='thr', y='pdet/f1_score', hue='model', ci='sd', # units='imgName', estimator=None,\n",
    "                col='patch_size', facet_kws=dict(margin_titles=True))\n",
    "\n",
    "g.set(ylim=(0, 1), xlim=(0, 1))\n",
    "for ax in g.axes.flatten():\n",
    "    ax.grid(True, which='major')\n",
    "    ax.grid(True, which='minor', ls='dotted')\n",
    "    ax.get_xaxis().set_minor_locator(ticker.AutoMinorLocator(2))\n",
    "    ax.get_yaxis().set_minor_locator(ticker.AutoMinorLocator(2))"
   ]
  },
  {
   "cell_type": "markdown",
   "id": "8470e082",
   "metadata": {},
   "source": [
    "## Mean Average Precision Table & PR Curves"
   ]
  },
  {
   "cell_type": "code",
   "execution_count": null,
   "id": "91387ca6",
   "metadata": {},
   "outputs": [],
   "source": [
    "def ap(data):\n",
    "    sorted_data = data.sort_values('pdet/recall', ascending=False)\n",
    "    recalls, precisions = sorted_data[['pdet/recall', 'pdet/precision']].values.T\n",
    "    average_precision = - np.sum(np.diff(recalls) * precisions[:-1])  # sklearn's ap\n",
    "    return pd.Series({'ap': average_precision})\n",
    "\n",
    "aps = metrics.groupby(['patch_size', 'model', 'imgName']).apply(ap)\n",
    "\n",
    "latex_fmt = lambda x: f'{x.mean():.1%}\\cf{{{x.std():.1%}}}'\n",
    "notebook_fmt = lambda x: f'{x.mean():.1%}$\\pm${x.std():.1%}'\n",
    "aps.reset_index().groupby(['patch_size', 'model'])['ap'].aggregate(notebook_fmt).unstack(0)"
   ]
  },
  {
   "cell_type": "code",
   "execution_count": null,
   "id": "98616432",
   "metadata": {},
   "outputs": [],
   "source": [
    "# PR Curves\n",
    "sns.set_theme(context='notebook', style='whitegrid', font_scale=1)\n",
    "\n",
    "def plot_pr(data, label, color):\n",
    "    \n",
    "    mean_pr = data.groupby('thr').mean().reset_index().sort_values('pdet/recall', ascending=False)\n",
    "    mean_recalls = mean_pr['pdet/recall'].values\n",
    "    mean_precisions = mean_pr['pdet/precision'].values\n",
    "    \n",
    "    aps = []\n",
    "    for group_key, img_group in data.groupby('imgName'):\n",
    "        img_group = img_group.reset_index().sort_values('pdet/recall', ascending=False)\n",
    "        recalls = img_group['pdet/recall'].values\n",
    "        precisions = img_group['pdet/precision'].values\n",
    "        average_precision = - np.sum(np.diff(recalls) * precisions[:-1])  # sklearn's ap\n",
    "        aps.append(average_precision)\n",
    "    \n",
    "    mean_ap = np.mean(aps)\n",
    "    plt.plot(mean_recalls, mean_precisions, label=f'{label} (mAP={mean_ap:.1%})', color=color)\n",
    "    \n",
    "\n",
    "data = metrics\n",
    "grid = sns.FacetGrid(data=data, hue='model', col='patch_size')\n",
    "grid.map_dataframe(plot_pr)\n",
    "grid.add_legend()\n",
    "# grid.axes[0].legend()"
   ]
  },
  {
   "cell_type": "markdown",
   "id": "1924930d",
   "metadata": {},
   "source": [
    "## TPR vs FDR per Agreement"
   ]
  },
  {
   "cell_type": "code",
   "execution_count": null,
   "id": "29302d60",
   "metadata": {},
   "outputs": [],
   "source": [
    "inA = ~predictions.X.isna()\n",
    "inB = ~predictions.Xp.isna()\n",
    "predictions['tp'] = inA & inB\n",
    "predictions['fp'] = ~inA & inB\n",
    "predictions['fn'] = inA & ~inB\n",
    "predictions['agreement'] = predictions.agreement.map('{:g}'.format)"
   ]
  },
  {
   "cell_type": "code",
   "execution_count": null,
   "id": "9e1daa35",
   "metadata": {},
   "outputs": [],
   "source": [
    "def tpr_fdr_per_agreement(all_gp):\n",
    "\n",
    "    # TPR per agreement level\n",
    "    by_agree = all_gp.pivot_table(index='agreement', values=['tp','fp','fn'], aggfunc='sum')\n",
    "    by_agree['tpr'] = by_agree.tp / (by_agree.tp + by_agree.fn)\n",
    "    by_agree['fdr'] = by_agree.fp / (by_agree.fp + by_agree.tp.sum())\n",
    "    \n",
    "    if 'nan' not in by_agree.index:\n",
    "        by_agree.loc['nan', ['fn', 'fp', 'tp', 'tpr', 'fdr']] = [0, 0, 0, np.nan, 0]\n",
    "\n",
    "    # remove unused cols\n",
    "    by_agree = by_agree.drop(columns=['tp', 'fp', 'fn']).unstack()\n",
    "    by_agree = by_agree.drop(('tpr','nan'), errors='ignore')\n",
    "    by_agree = by_agree.drop([('fdr', str(i)) for i in range(1,8)], errors='ignore')\n",
    "    \n",
    "    # TPR for agreement >= 4\n",
    "    selector = all_gp.agreement.isin(('4','5','6','7', 'nan'))\n",
    "    tp, fn = all_gp.loc[selector, ['tp', 'fn']].sum()\n",
    "    tpr_gt_4 = tp / (tp + fn)\n",
    "    by_agree[('tpr', '>=4')] = tpr_gt_4\n",
    "\n",
    "    # TPR for all\n",
    "    tp, fn = all_gp[['tp', 'fn']].sum()\n",
    "    tpr_all = tp / (tp + fn)\n",
    "    by_agree[('tpr', 'All')] = tpr_all\n",
    "\n",
    "    by_agree = by_agree.reindex(('tpr', 'fdr'), level=0)    \n",
    "    return by_agree\n",
    "\n",
    "pseudo_roc = predictions.groupby(['patch_size', 'model', 'thr']).progress_apply(tpr_fdr_per_agreement)\n",
    "# flatten column multiindex\n",
    "pseudo_roc.columns = [col[1] if col[0] == 'tpr' else col[0] for col in pseudo_roc.columns.values]\n",
    "pseudo_roc"
   ]
  },
  {
   "cell_type": "code",
   "execution_count": null,
   "id": "2ad85e53",
   "metadata": {},
   "outputs": [],
   "source": [
    "sns.set_theme(context='notebook', style='whitegrid', font_scale=1)\n",
    "\n",
    "data = pseudo_roc.reset_index().melt(id_vars=['patch_size', 'model', 'thr', 'fdr'], var_name='agreement', value_name='tpr')\n",
    "data = data.sort_values(['patch_size', 'model', 'thr', 'fdr'])\n",
    "# data = data[ ~((data.model == 'S-UNet') & ((data.thr < 0) | (data.thr >= 0.9))) ]\n",
    "\n",
    "grid = sns.FacetGrid(data=data, row='agreement', col='patch_size', hue='model', sharex=True, legend_out=True, margin_titles=True)\n",
    "grid.map(plt.plot, 'fdr', 'tpr')\n",
    "grid.add_legend()\n",
    "#for ax in grid.axes.flatten():\n",
    "#    ax.axis('equal')\n",
    "    \n",
    "#grid.set(ylim=(0,1), xlim=(0, 1))"
   ]
  },
  {
   "cell_type": "markdown",
   "id": "46a76060",
   "metadata": {},
   "source": [
    "## Score vs Agreement"
   ]
  },
  {
   "cell_type": "code",
   "execution_count": null,
   "id": "2f534735",
   "metadata": {},
   "outputs": [],
   "source": [
    "best_thrs = metrics.set_index('thr').groupby(['model', 'patch_size', 'imgName'])['count/game-3'].idxmin()\n",
    "best_thrs = best_thrs.reset_index().to_records(index=False).tolist()\n",
    "data = predictions.set_index(['model', 'patch_size', 'imgName', 'thr']).loc[best_thrs].reset_index()"
   ]
  },
  {
   "cell_type": "code",
   "execution_count": null,
   "id": "51f229de",
   "metadata": {},
   "outputs": [],
   "source": [
    "fig, ax = plt.subplots(figsize=(10, 10))\n",
    "\n",
    "order = ['nan'] + [str(i) for i in range(1, 8)]\n",
    "sns.boxenplot(y='model', hue='agreement', x='score', hue_order=order, data=data, orient='h', palette='flare', ax=ax)\n",
    "plt.legend(loc='upper right', ncol=1)"
   ]
  }
 ],
 "metadata": {
  "kernelspec": {
   "display_name": "Python 3",
   "language": "python",
   "name": "python3"
  },
  "language_info": {
   "codemirror_mode": {
    "name": "ipython",
    "version": 3
   },
   "file_extension": ".py",
   "mimetype": "text/x-python",
   "name": "python",
   "nbconvert_exporter": "python",
   "pygments_lexer": "ipython3",
   "version": "3.8.5"
  }
 },
 "nbformat": 4,
 "nbformat_minor": 5
}